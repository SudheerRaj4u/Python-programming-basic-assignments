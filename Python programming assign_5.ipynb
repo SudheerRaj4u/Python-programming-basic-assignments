{
 "cells": [
  {
   "cell_type": "markdown",
   "metadata": {},
   "source": [
    "    Program to find LCM of two numbers"
   ]
  },
  {
   "cell_type": "code",
   "execution_count": 32,
   "metadata": {},
   "outputs": [
    {
     "name": "stdout",
     "output_type": "stream",
     "text": [
      "enter an integer25\n",
      "enter an integer26\n",
      "The L.C.M. is 650\n"
     ]
    }
   ],
   "source": [
    "\n",
    "def solve_lcm (x,y):\n",
    "    \n",
    "    if x > y:\n",
    "        Max = x\n",
    "    else:\n",
    "        Max = y\n",
    "    while (True):\n",
    "        if ((Max % x== 0) and (Max % y == 0)):\n",
    "            lcm = Max\n",
    "            break\n",
    "        Max += 1\n",
    "    return lcm\n",
    "\n",
    "x = int(input(\"enter an integer\"))\n",
    "y = int(input(\"enter an integer\"))\n",
    "\n",
    "print(\"The L.C.M. is\", solve_lcm(x, y))"
   ]
  },
  {
   "cell_type": "markdown",
   "metadata": {},
   "source": [
    "        Program to find HCF of two numbers"
   ]
  },
  {
   "cell_type": "code",
   "execution_count": 36,
   "metadata": {},
   "outputs": [
    {
     "name": "stdout",
     "output_type": "stream",
     "text": [
      "enter an integer: 24\n",
      "enter an integer: 36\n",
      "The H.C.F. is  12\n"
     ]
    }
   ],
   "source": [
    "def solve_hcf(y,z):\n",
    "    if y > z:\n",
    "        Min = z\n",
    "    else:\n",
    "        Min = y\n",
    "    for i in range (1, Min + 1):\n",
    "        if (y % i == 0) and (z % i == 0):\n",
    "            hcf = i\n",
    "            \n",
    "    return hcf\n",
    "\n",
    "y = int(input(\"enter an integer: \"))\n",
    "z = int(input(\"enter an integer: \"))\n",
    "\n",
    "print(\"The H.C.F. is \", solve_hcf(y,z))\n",
    "        \n",
    "        \n",
    "        \n",
    "        "
   ]
  },
  {
   "cell_type": "markdown",
   "metadata": {},
   "source": [
    "    Program to convert Decimal to Binary, Octal and HexaDecimal"
   ]
  },
  {
   "cell_type": "code",
   "execution_count": 49,
   "metadata": {},
   "outputs": [
    {
     "name": "stdout",
     "output_type": "stream",
     "text": [
      "enter a decimal: 25\n",
      "0o31 in octal.\n",
      "0x19 in hexadecimal and the last one is binary :\n",
      "011001"
     ]
    }
   ],
   "source": [
    "\n",
    "\n",
    "def DecimalToBinary(x):\n",
    "     \n",
    "    if x >= 1:          \n",
    "        DecimalToBinary(x // 2)\n",
    "    print(x % 2, end = '')\n",
    " \n",
    "if __name__ == '__main__':\n",
    "     \n",
    "    x = int(input(\"enter a decimal: \"))\n",
    "    print(oct(x), \"in octal.\")\n",
    "    print(hex(x), \"in hexadecimal and the last one is binary :\") \n",
    "     \n",
    "    DecimalToBinary(x)"
   ]
  },
  {
   "cell_type": "markdown",
   "metadata": {},
   "source": [
    "    Program to find ASCII value of a Character"
   ]
  },
  {
   "cell_type": "code",
   "execution_count": 57,
   "metadata": {},
   "outputs": [
    {
     "name": "stdout",
     "output_type": "stream",
     "text": [
      "Enter any single character: b\n",
      "The ASCII value of b is 98\n"
     ]
    }
   ],
   "source": [
    "c = input(\"Enter any single character: \")\n",
    "\n",
    "print(\"The ASCII value of {} is {}\".format(c,ord(c)))"
   ]
  },
  {
   "cell_type": "markdown",
   "metadata": {},
   "source": [
    "    Program to make a Simple calculator with 4 mathematical operations"
   ]
  },
  {
   "cell_type": "code",
   "execution_count": 2,
   "metadata": {},
   "outputs": [
    {
     "name": "stdout",
     "output_type": "stream",
     "text": [
      "Select operation.\n",
      "1.Add\n",
      "2.Subtract\n",
      "3.Multiply\n",
      "4.Divide\n",
      "Enter choice(1/2/3/4): 2\n",
      "Enter first number: 3\n",
      "Enter second number: 6\n",
      "3.0 - 6.0 = -3.0\n",
      "Let's do next calculation? (yes/no): yes\n",
      "Enter choice(1/2/3/4): 3\n",
      "Enter first number: 3\n",
      "Enter second number: 6\n",
      "3.0 * 6.0 = 18.0\n",
      "Let's do next calculation? (yes/no): yes\n",
      "Enter choice(1/2/3/4): 1\n",
      "Enter first number: 3\n",
      "Enter second number: 6\n",
      "3.0 + 6.0 = 9.0\n",
      "Let's do next calculation? (yes/no): yes\n",
      "Enter choice(1/2/3/4): 4\n",
      "Enter first number: 3\n",
      "Enter second number: 6\n",
      "3.0 / 6.0 = 0.5\n",
      "Let's do next calculation? (yes/no): no\n"
     ]
    }
   ],
   "source": [
    "def add(x, y):\n",
    "    return x + y\n",
    "\n",
    "def subtract(x, y):\n",
    "    return x - y\n",
    "\n",
    "def multiply(x, y):\n",
    "    return x * y\n",
    "\n",
    "def divide(x, y):\n",
    "    return x / y\n",
    "\n",
    "\n",
    "print(\"Select operation.\")\n",
    "print(\"1.Add\")\n",
    "print(\"2.Subtract\")\n",
    "print(\"3.Multiply\")\n",
    "print(\"4.Divide\")\n",
    "\n",
    "while True:\n",
    "\n",
    "    choice = input(\"Enter choice(1/2/3/4): \")\n",
    "\n",
    "    if choice in ('1', '2', '3', '4'):\n",
    "        num1 = float(input(\"Enter first number: \"))\n",
    "        num2 = float(input(\"Enter second number: \"))\n",
    "\n",
    "        if choice == '1':\n",
    "            print(num1, \"+\", num2, \"=\", add(num1, num2))\n",
    "\n",
    "        elif choice == '2':\n",
    "            print(num1, \"-\", num2, \"=\", subtract(num1, num2))\n",
    "\n",
    "        elif choice == '3':\n",
    "            print(num1, \"*\", num2, \"=\", multiply(num1, num2))\n",
    "\n",
    "        elif choice == '4':\n",
    "            print(num1, \"/\", num2, \"=\", divide(num1, num2))\n",
    "        \n",
    "        next_calculation = input(\"Let's do next calculation? (yes/no): \")\n",
    "        if next_calculation == \"no\":\n",
    "          break\n",
    "    \n",
    "    else:\n",
    "        print(\"Invalid Input\")"
   ]
  },
  {
   "cell_type": "code",
   "execution_count": null,
   "metadata": {},
   "outputs": [],
   "source": []
  }
 ],
 "metadata": {
  "kernelspec": {
   "display_name": "Python 3",
   "language": "python",
   "name": "python3"
  },
  "language_info": {
   "codemirror_mode": {
    "name": "ipython",
    "version": 3
   },
   "file_extension": ".py",
   "mimetype": "text/x-python",
   "name": "python",
   "nbconvert_exporter": "python",
   "pygments_lexer": "ipython3",
   "version": "3.6.5"
  }
 },
 "nbformat": 4,
 "nbformat_minor": 2
}
