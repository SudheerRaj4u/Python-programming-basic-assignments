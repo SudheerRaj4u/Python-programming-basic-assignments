{
 "cells": [
  {
   "cell_type": "markdown",
   "metadata": {},
   "source": [
    "    Program to print factorial of a number"
   ]
  },
  {
   "cell_type": "code",
   "execution_count": 14,
   "metadata": {},
   "outputs": [
    {
     "name": "stdout",
     "output_type": "stream",
     "text": [
      "enter an integer: 6\n",
      "720\n"
     ]
    }
   ],
   "source": [
    "n = int(input(\"enter an integer: \"))\n",
    "c = 1\n",
    "\n",
    "if n >1:\n",
    "    for i in range(1,n+1):\n",
    "        c= i * c\n",
    "    print(c)"
   ]
  },
  {
   "cell_type": "markdown",
   "metadata": {},
   "source": [
    "    Program to display a multiplication table"
   ]
  },
  {
   "cell_type": "code",
   "execution_count": 26,
   "metadata": {},
   "outputs": [
    {
     "name": "stdout",
     "output_type": "stream",
     "text": [
      "enter the number for the table to display: 14\n",
      " 14 * 1 = 14 \n",
      " 14 * 2 = 28 \n",
      " 14 * 3 = 42 \n",
      " 14 * 4 = 56 \n",
      " 14 * 5 = 70 \n",
      " 14 * 6 = 84 \n",
      " 14 * 7 = 98 \n",
      " 14 * 8 = 112 \n",
      " 14 * 9 = 126 \n",
      " 14 * 10 = 140 \n"
     ]
    }
   ],
   "source": [
    "n = int(input(\"enter the number for the table to display: \"))\n",
    "for i in range(1,11):\n",
    "    print(\" %d * %d = %d \" % (n, i, n *i))"
   ]
  },
  {
   "cell_type": "markdown",
   "metadata": {},
   "source": [
    "    Program to print Fibonacci sequence"
   ]
  },
  {
   "cell_type": "code",
   "execution_count": 41,
   "metadata": {
    "scrolled": true
   },
   "outputs": [
    {
     "name": "stdout",
     "output_type": "stream",
     "text": [
      "enter the number to print Fibonacci sequence 10\n",
      "0\n",
      "1\n",
      "1\n",
      "2\n",
      "3\n",
      "5\n",
      "8\n",
      "13\n",
      "21\n",
      "34\n"
     ]
    }
   ],
   "source": [
    "n = int(input(\"enter the number to print Fibonacci sequence \"))\n",
    "e =  0\n",
    "e1 = 0\n",
    "e2 = 1\n",
    "while e<n:\n",
    "    if (e <= 1):\n",
    "        f = e\n",
    "    else :\n",
    "        f = e1+ e2\n",
    "        e1 = e2\n",
    "        e2 =f\n",
    "    print(f)\n",
    "    e = e +1 "
   ]
  },
  {
   "cell_type": "markdown",
   "metadata": {},
   "source": [
    "    Program to check Armstrong number"
   ]
  },
  {
   "cell_type": "code",
   "execution_count": 51,
   "metadata": {},
   "outputs": [
    {
     "name": "stdout",
     "output_type": "stream",
     "text": [
      "enter an integer: 9474\n",
      "9474 is an Armstrong number\n"
     ]
    }
   ],
   "source": [
    "num = int(input(\"enter an integer: \")) \n",
    "\n",
    "count = len(str(num))\n",
    "\n",
    "Sum = 0\n",
    "\n",
    "temp = num\n",
    "while temp > 0:\n",
    "    each_digit = temp % 10\n",
    "    Sum += each_digit ** count\n",
    "    temp //= 10\n",
    "\n",
    "if num == Sum:\n",
    "    print(num,\"is an Armstrong number\")\n",
    "else:\n",
    "    print(num,\"is not an Armstrong number\")\n"
   ]
  },
  {
   "cell_type": "markdown",
   "metadata": {},
   "source": [
    "    Program to check Armstrong number in an interval"
   ]
  },
  {
   "cell_type": "code",
   "execution_count": 91,
   "metadata": {},
   "outputs": [
    {
     "name": "stdout",
     "output_type": "stream",
     "text": [
      "153\n",
      "370\n",
      "371\n",
      "407\n",
      "1634\n",
      "8208\n",
      "9474\n"
     ]
    }
   ],
   "source": [
    "\n",
    "num1 = 100\n",
    "num2 = 10000\n",
    "\n",
    "for num in range(num1, num2 + 1):  \n",
    "    \n",
    "   count = len(str(num))\n",
    "   sum = 0\n",
    "   temp = num\n",
    "   while temp > 0:\n",
    "        each_digit = temp % 10\n",
    "        sum += each_digit ** count\n",
    "        temp //= 10\n",
    "\n",
    "   if num == sum:\n",
    "       print(num)\n"
   ]
  },
  {
   "cell_type": "markdown",
   "metadata": {},
   "source": [
    "    Program to find the sum of natural number"
   ]
  },
  {
   "cell_type": "code",
   "execution_count": null,
   "metadata": {},
   "outputs": [],
   "source": [
    "n = int(input(\"enter an integer: \"))\n",
    "sum = 0\n",
    "for i in range (1, n+1):\n",
    "    sum = sum + i\n",
    "print(\"The Sum of natural number from 1 to {0} = {1}\".format(n, sum))"
   ]
  },
  {
   "cell_type": "code",
   "execution_count": null,
   "metadata": {},
   "outputs": [],
   "source": []
  }
 ],
 "metadata": {
  "kernelspec": {
   "display_name": "Python 3",
   "language": "python",
   "name": "python3"
  },
  "language_info": {
   "codemirror_mode": {
    "name": "ipython",
    "version": 3
   },
   "file_extension": ".py",
   "mimetype": "text/x-python",
   "name": "python",
   "nbconvert_exporter": "python",
   "pygments_lexer": "ipython3",
   "version": "3.6.5"
  }
 },
 "nbformat": 4,
 "nbformat_minor": 2
}
