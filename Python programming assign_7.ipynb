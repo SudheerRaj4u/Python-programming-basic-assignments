{
 "cells": [
  {
   "cell_type": "markdown",
   "metadata": {},
   "source": [
    "Python Program to find sum of array"
   ]
  },
  {
   "cell_type": "code",
   "execution_count": 2,
   "metadata": {},
   "outputs": [
    {
     "name": "stdout",
     "output_type": "stream",
     "text": [
      "The sum of this array is  15\n"
     ]
    }
   ],
   "source": [
    "a = [1,2,3,4,5]\n",
    "\n",
    "def sum_array(a):\n",
    "    \n",
    "    sum =0\n",
    "    \n",
    "    for i in a :\n",
    "        sum = sum +i\n",
    "        \n",
    "    return(sum)\n",
    "\n",
    "\n",
    "print('The sum of this array is ', sum_array(a) )"
   ]
  },
  {
   "cell_type": "markdown",
   "metadata": {},
   "source": [
    "Python Program to find largest element in an array"
   ]
  },
  {
   "cell_type": "code",
   "execution_count": 3,
   "metadata": {},
   "outputs": [
    {
     "name": "stdout",
     "output_type": "stream",
     "text": [
      "Largest in given array is 20\n"
     ]
    }
   ],
   "source": [
    "b = [5,6,7,8,9,20]\n",
    "\n",
    "\n",
    "def large_ele(b):\n",
    "    \n",
    "    max = b[0]\n",
    "    for i in range(len(b)):\n",
    "        if b[i] > max:\n",
    "            max = b[i]\n",
    "    return max\n",
    "\n",
    "print (\"Largest in given array is\",large_ele(b))"
   ]
  },
  {
   "cell_type": "markdown",
   "metadata": {},
   "source": [
    "Python Program for array rotation"
   ]
  },
  {
   "cell_type": "code",
   "execution_count": 16,
   "metadata": {},
   "outputs": [
    {
     "name": "stdout",
     "output_type": "stream",
     "text": [
      "Array after left rotation is:  [3, 4, 5, 6, 7, 1, 2]\n"
     ]
    }
   ],
   "source": [
    "c = [1, 2, 3, 4, 5, 6, 7]\n",
    "\n",
    "\n",
    "def rotateArray(c, d, e):\n",
    "    \n",
    "    temp = []\n",
    "    i = 0\n",
    "    while (i < e):\n",
    "        \n",
    "        temp.append(c[i])\n",
    "        i = i + 1\n",
    "        \n",
    "    i = 0\n",
    "    \n",
    "    while (e < d):\n",
    "        \n",
    "        c[i] = c[e]\n",
    "        i = i + 1\n",
    "        e = e + 1\n",
    "        \n",
    "    c[:] = c[: i] + temp\n",
    "    \n",
    "    return c\n",
    " \n",
    " \n",
    "print(\"Array after left rotation is: \", end=' ')\n",
    "\n",
    "print(rotateArray(c, len(c), 2))"
   ]
  },
  {
   "cell_type": "markdown",
   "metadata": {},
   "source": [
    "Python Program to Split the array and add the first part to the end"
   ]
  },
  {
   "cell_type": "code",
   "execution_count": 10,
   "metadata": {},
   "outputs": [
    {
     "name": "stdout",
     "output_type": "stream",
     "text": [
      "78 0 1 34 56 "
     ]
    }
   ],
   "source": [
    "def spilt(c, e, f): \n",
    "    for i in range(0, f): \n",
    "        x = c[0]\n",
    "        for j in range(0, e-1):\n",
    "            c[j] = c[j + 1]\n",
    "          \n",
    "        c[e-1] = x\n",
    "          \n",
    "  \n",
    "c = [34,56,78,0,1]\n",
    "e = len(c)\n",
    "f = 2\n",
    "  \n",
    "spilt(c, e, f)\n",
    "\n",
    "  \n",
    "for i in range(0, e): \n",
    "    print(c[i], end = ' ')"
   ]
  },
  {
   "cell_type": "markdown",
   "metadata": {},
   "source": [
    "Python Program to check if given array is Monotonic"
   ]
  },
  {
   "cell_type": "code",
   "execution_count": 24,
   "metadata": {},
   "outputs": [
    {
     "name": "stdout",
     "output_type": "stream",
     "text": [
      "True\n"
     ]
    }
   ],
   "source": [
    "def Monotonic(c):\n",
    "    \n",
    "    return (all (c[i] <= c[i+1] for i in range (len(c)-1)) or \n",
    "            all (c[i] >= c[i+1] for i in range (len(c)-1)))\n",
    "    \n",
    "\n",
    "c = [9,8,7,6,5,4,3,3]\n",
    "\n",
    "print(Monotonic(c))"
   ]
  },
  {
   "cell_type": "code",
   "execution_count": null,
   "metadata": {},
   "outputs": [],
   "source": []
  },
  {
   "cell_type": "code",
   "execution_count": null,
   "metadata": {},
   "outputs": [],
   "source": []
  }
 ],
 "metadata": {
  "kernelspec": {
   "display_name": "Python 3",
   "language": "python",
   "name": "python3"
  },
  "language_info": {
   "codemirror_mode": {
    "name": "ipython",
    "version": 3
   },
   "file_extension": ".py",
   "mimetype": "text/x-python",
   "name": "python",
   "nbconvert_exporter": "python",
   "pygments_lexer": "ipython3",
   "version": "3.6.5"
  }
 },
 "nbformat": 4,
 "nbformat_minor": 2
}
