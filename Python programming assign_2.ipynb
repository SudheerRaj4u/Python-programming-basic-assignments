{
 "cells": [
  {
   "cell_type": "markdown",
   "metadata": {},
   "source": [
    "Program to covert kilometers into miles"
   ]
  },
  {
   "cell_type": "code",
   "execution_count": 42,
   "metadata": {},
   "outputs": [
    {
     "name": "stdout",
     "output_type": "stream",
     "text": [
      "Enter the number of kilometers 1\n",
      "It is equal to miles of  0.621371\n"
     ]
    }
   ],
   "source": [
    "a = float(input(\"Enter the number of kilometers \"))\n",
    "b = a * 0.621371\n",
    "print(\"It is equal to miles of \", b)"
   ]
  },
  {
   "cell_type": "markdown",
   "metadata": {},
   "source": [
    "Program to convert Celsius to Fahrenheit"
   ]
  },
  {
   "cell_type": "code",
   "execution_count": 43,
   "metadata": {},
   "outputs": [
    {
     "name": "stdout",
     "output_type": "stream",
     "text": [
      "Enter the number of celsius 24\n",
      "It is equal to Fahrenheit of  75.2\n"
     ]
    }
   ],
   "source": [
    "c = float(input(\"Enter the number of celsius \"))\n",
    "f = (c * 1.8) + 32\n",
    "\n",
    "print(\"It is equal to Fahrenheit of \", f)"
   ]
  },
  {
   "cell_type": "markdown",
   "metadata": {},
   "source": [
    "Program to display Calender"
   ]
  },
  {
   "cell_type": "code",
   "execution_count": 44,
   "metadata": {
    "scrolled": false
   },
   "outputs": [
    {
     "name": "stdout",
     "output_type": "stream",
     "text": [
      "enter the year 2003\n",
      "enter the month 10\n",
      "    October 2003\n",
      "Mo Tu We Th Fr Sa Su\n",
      "       1  2  3  4  5\n",
      " 6  7  8  9 10 11 12\n",
      "13 14 15 16 17 18 19\n",
      "20 21 22 23 24 25 26\n",
      "27 28 29 30 31\n",
      "\n"
     ]
    }
   ],
   "source": [
    "import calendar\n",
    "year =  int(input(\"enter the year \"))\n",
    "month =  int(input(\"enter the month \"))\n",
    "print(calendar.month(year, month))\n"
   ]
  },
  {
   "cell_type": "markdown",
   "metadata": {},
   "source": [
    "Program to solve a Quadratic Equation"
   ]
  },
  {
   "cell_type": "code",
   "execution_count": 1,
   "metadata": {},
   "outputs": [
    {
     "name": "stdout",
     "output_type": "stream",
     "text": [
      "enter a randaom number for x: 1\n",
      "enter a randaom number for a: 4\n",
      "enter a randaom number for b: 2\n",
      "enter a randaom number for c: 2\n",
      "The output for a quadratic equation is  8.0\n"
     ]
    }
   ],
   "source": [
    "x = float(input(\"enter a randaom number for x: \"))\n",
    "a = float(input(\"enter a randaom number for a: \"))\n",
    "b = float(input(\"enter a randaom number for b: \"))\n",
    "c = float(input(\"enter a randaom number for c: \"))\n",
    "\n",
    "y =  a*(x**2) + b *(x) + c\n",
    "print(\"The output for a quadratic equation is \", y)"
   ]
  },
  {
   "cell_type": "markdown",
   "metadata": {},
   "source": [
    "Program to swap two variables without temporary variable"
   ]
  },
  {
   "cell_type": "code",
   "execution_count": 54,
   "metadata": {},
   "outputs": [
    {
     "name": "stdout",
     "output_type": "stream",
     "text": [
      "Enter the value of a: 1\n",
      "Enter the value of b: 2\n",
      "Values after swapping  a: 2.0,  b: 1.0\n"
     ]
    }
   ],
   "source": [
    "a = float(input(\"Enter the value of a: \"))\n",
    "b = float(input(\"Enter the value of b: \"))\n",
    "\n",
    "a = a + b\n",
    "b = a - b\n",
    "a = a - b\n",
    "\n",
    "print(\"Values after swapping  a: %.1f,  b: %.1f\" %(a,b))"
   ]
  },
  {
   "cell_type": "code",
   "execution_count": null,
   "metadata": {},
   "outputs": [],
   "source": []
  }
 ],
 "metadata": {
  "kernelspec": {
   "display_name": "Python 3",
   "language": "python",
   "name": "python3"
  },
  "language_info": {
   "codemirror_mode": {
    "name": "ipython",
    "version": 3
   },
   "file_extension": ".py",
   "mimetype": "text/x-python",
   "name": "python",
   "nbconvert_exporter": "python",
   "pygments_lexer": "ipython3",
   "version": "3.6.5"
  }
 },
 "nbformat": 4,
 "nbformat_minor": 2
}
