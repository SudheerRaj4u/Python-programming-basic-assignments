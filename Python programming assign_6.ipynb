{
 "cells": [
  {
   "cell_type": "markdown",
   "metadata": {},
   "source": [
    "        Program to display Fibonacci sequence using Recursion function"
   ]
  },
  {
   "cell_type": "code",
   "execution_count": 1,
   "metadata": {},
   "outputs": [
    {
     "name": "stdout",
     "output_type": "stream",
     "text": [
      "Fibonacci sequence:\n",
      "0\n",
      "1\n",
      "1\n",
      "2\n",
      "3\n",
      "5\n",
      "8\n",
      "13\n",
      "21\n",
      "34\n",
      "55\n"
     ]
    }
   ],
   "source": [
    "\n",
    "def fibo_recu(n):\n",
    "    if n <= 1:\n",
    "        return n\n",
    "    else:\n",
    "        return(fibo_recu(n-1) + fibo_recu(n-2))\n",
    "\n",
    "num = 11\n",
    "\n",
    "if num <= 0:\n",
    "    print(\"Plese enter a positive integer\")\n",
    "else:\n",
    "    print(\"Fibonacci sequence:\")\n",
    "    for i in range(num):\n",
    "        print(fibo_recu(i))\n"
   ]
  },
  {
   "cell_type": "markdown",
   "metadata": {},
   "source": [
    "    Program to find factorial of a number using recursion"
   ]
  },
  {
   "cell_type": "code",
   "execution_count": 2,
   "metadata": {},
   "outputs": [
    {
     "name": "stdout",
     "output_type": "stream",
     "text": [
      "enter a postive number: 6\n",
      "The factorial of  6 is 720\n"
     ]
    }
   ],
   "source": [
    "def fact_recur(n):\n",
    "    if n == 1:\n",
    "        return n\n",
    "    else:\n",
    "        return n * fact_recur(n-1)\n",
    "    \n",
    "    \n",
    "num = int(input(\"enter a postive number: \"))\n",
    "          \n",
    "if num < 0:\n",
    "          print(\"enter a postive number as mathematically negative factorial is not possible\")\n",
    "\n",
    "elif num == 0:\n",
    "          print(\" The factorial of 0 is 1 \")\n",
    "\n",
    "          \n",
    "elif num >1:\n",
    "          print(\"The factorial of \",num, 'is', fact_recur(num))\n"
   ]
  },
  {
   "cell_type": "markdown",
   "metadata": {},
   "source": [
    "    Program to calculte Body Mass Index of any body"
   ]
  },
  {
   "cell_type": "code",
   "execution_count": 3,
   "metadata": {},
   "outputs": [
    {
     "name": "stdout",
     "output_type": "stream",
     "text": [
      "Enter your height(in meters): 1.55\n",
      "Enter your weight(in kg's): 64\n",
      "You are Overweight\n",
      "Your Body Mass Index: BMI is 26.638917793964616\n"
     ]
    }
   ],
   "source": [
    "height = float(input(\"Enter your height(in meters): \"))\n",
    "weight = float(input(\"Enter your weight(in kg's): \"))\n",
    "\n",
    "BMI = weight / (height ** 2)\n",
    "\n",
    "if BMI < 18.5:\n",
    "    print(\"You are underweight\")\n",
    "\n",
    "elif 24.9 < BMI < 18.5:\n",
    "    print(\"You are on Healthy weight\")\n",
    "    \n",
    "elif 25.0 < BMI < 29.9:\n",
    "    print(\"You are Overweight\")\n",
    "\n",
    "elif (BMI >= 30):\n",
    "    print(\"You are Obese\")\n",
    "\n",
    "\n",
    "print(\"Your Body Mass Index: BMI is\", BMI)\n",
    "\n"
   ]
  },
  {
   "cell_type": "markdown",
   "metadata": {},
   "source": [
    "    Program to calculate natural logarithm of any number"
   ]
  },
  {
   "cell_type": "code",
   "execution_count": 4,
   "metadata": {},
   "outputs": [
    {
     "name": "stdout",
     "output_type": "stream",
     "text": [
      "enter any natural number: 100\n",
      "The naturl logarithm of  100.0 is 4.605170185988092\n"
     ]
    }
   ],
   "source": [
    "import math\n",
    "\n",
    "x = float(input(\"enter any natural number: \"))\n",
    "\n",
    "y = math.log(x)\n",
    "print(\"The naturl logarithm of \",x, 'is', y)"
   ]
  },
  {
   "cell_type": "markdown",
   "metadata": {},
   "source": [
    "    Program to find sum of cube of first n natural numbers"
   ]
  },
  {
   "cell_type": "code",
   "execution_count": 9,
   "metadata": {},
   "outputs": [
    {
     "name": "stdout",
     "output_type": "stream",
     "text": [
      "enter a postive number5\n",
      "Sum of the cubes of 5 natural numbers is 225\n"
     ]
    }
   ],
   "source": [
    "def sumofcubes(n):\n",
    "    sum = 0\n",
    "    for i in range(1, n + 1):\n",
    "        sum += i * i * i\n",
    "        \n",
    "    return sum\n",
    "\n",
    "num = int(input(\"enter a postive number\"))\n",
    "\n",
    "if num <0:\n",
    "    print(\"enter a postive number\")\n",
    "else:\n",
    "    print(\"Sum of the cubes of\", num, \"natural numbers is\", sumofcubes(num))\n",
    "\n"
   ]
  },
  {
   "cell_type": "code",
   "execution_count": null,
   "metadata": {},
   "outputs": [],
   "source": []
  }
 ],
 "metadata": {
  "kernelspec": {
   "display_name": "Python 3",
   "language": "python",
   "name": "python3"
  },
  "language_info": {
   "codemirror_mode": {
    "name": "ipython",
    "version": 3
   },
   "file_extension": ".py",
   "mimetype": "text/x-python",
   "name": "python",
   "nbconvert_exporter": "python",
   "pygments_lexer": "ipython3",
   "version": "3.6.5"
  }
 },
 "nbformat": 4,
 "nbformat_minor": 2
}
